{
  "cells": [
    {
      "cell_type": "code",
      "execution_count": 44,
      "metadata": {
        "colab": {
          "base_uri": "https://localhost:8080/"
        },
        "id": "kzxlCWE_5ZuA",
        "outputId": "5e1ef1b2-d977-438a-927c-c37f01b38c0d"
      },
      "outputs": [],
      "source": [
        "import pandas as pd\n",
        "import numpy as np\n",
        "import matplotlib.pyplot as plt\n",
        "import seaborn as sns\n",
        "df=pd.read_csv(\"World-happiness-report-2024.csv\")"
      ]
    },
    {
      "cell_type": "markdown",
      "metadata": {
        "id": "Ma0qWgAn-6WT"
      },
      "source": [
        "PART 1"
      ]
    },
    {
      "cell_type": "code",
      "execution_count": 45,
      "metadata": {
        "colab": {
          "base_uri": "https://localhost:8080/"
        },
        "id": "EecW1r7m55gH",
        "outputId": "c149576b-ef40-486b-a99e-e77e67618e6d"
      },
      "outputs": [
        {
          "data": {
            "text/plain": [
              "(143, 12)"
            ]
          },
          "execution_count": 45,
          "metadata": {},
          "output_type": "execute_result"
        }
      ],
      "source": [
        "df.shape"
      ]
    },
    {
      "cell_type": "code",
      "execution_count": 46,
      "metadata": {
        "colab": {
          "base_uri": "https://localhost:8080/",
          "height": 460
        },
        "id": "Z5ie-YzO5_Z_",
        "outputId": "d1a861d2-c387-46a0-b422-c518ed8d412c"
      },
      "outputs": [
        {
          "data": {
            "text/plain": [
              "Country name                     object\n",
              "Regional indicator               object\n",
              "Ladder score                    float64\n",
              "upperwhisker                    float64\n",
              "lowerwhisker                    float64\n",
              "Log GDP per capita              float64\n",
              "Social support                  float64\n",
              "Healthy life expectancy         float64\n",
              "Freedom to make life choices    float64\n",
              "Generosity                      float64\n",
              "Perceptions of corruption       float64\n",
              "Dystopia + residual             float64\n",
              "dtype: object"
            ]
          },
          "execution_count": 46,
          "metadata": {},
          "output_type": "execute_result"
        }
      ],
      "source": [
        "df.dtypes"
      ]
    },
    {
      "cell_type": "code",
      "execution_count": 47,
      "metadata": {
        "colab": {
          "base_uri": "https://localhost:8080/",
          "height": 230
        },
        "id": "fzy1ATjV6WHS",
        "outputId": "c150a0f7-1480-4e43-8478-e81ddf3d8068"
      },
      "outputs": [
        {
          "data": {
            "text/html": [
              "<div>\n",
              "<style scoped>\n",
              "    .dataframe tbody tr th:only-of-type {\n",
              "        vertical-align: middle;\n",
              "    }\n",
              "\n",
              "    .dataframe tbody tr th {\n",
              "        vertical-align: top;\n",
              "    }\n",
              "\n",
              "    .dataframe thead th {\n",
              "        text-align: right;\n",
              "    }\n",
              "</style>\n",
              "<table border=\"1\" class=\"dataframe\">\n",
              "  <thead>\n",
              "    <tr style=\"text-align: right;\">\n",
              "      <th></th>\n",
              "      <th>Country name</th>\n",
              "      <th>Regional indicator</th>\n",
              "      <th>Ladder score</th>\n",
              "      <th>upperwhisker</th>\n",
              "      <th>lowerwhisker</th>\n",
              "      <th>Log GDP per capita</th>\n",
              "      <th>Social support</th>\n",
              "      <th>Healthy life expectancy</th>\n",
              "      <th>Freedom to make life choices</th>\n",
              "      <th>Generosity</th>\n",
              "      <th>Perceptions of corruption</th>\n",
              "      <th>Dystopia + residual</th>\n",
              "    </tr>\n",
              "  </thead>\n",
              "  <tbody>\n",
              "    <tr>\n",
              "      <th>61</th>\n",
              "      <td>Bahrain</td>\n",
              "      <td>Middle East and North Africa</td>\n",
              "      <td>5.959</td>\n",
              "      <td>6.153</td>\n",
              "      <td>5.766</td>\n",
              "      <td>NaN</td>\n",
              "      <td>NaN</td>\n",
              "      <td>NaN</td>\n",
              "      <td>NaN</td>\n",
              "      <td>NaN</td>\n",
              "      <td>NaN</td>\n",
              "      <td>NaN</td>\n",
              "    </tr>\n",
              "    <tr>\n",
              "      <th>87</th>\n",
              "      <td>Tajikistan</td>\n",
              "      <td>Commonwealth of Independent States</td>\n",
              "      <td>5.281</td>\n",
              "      <td>5.361</td>\n",
              "      <td>5.201</td>\n",
              "      <td>NaN</td>\n",
              "      <td>NaN</td>\n",
              "      <td>NaN</td>\n",
              "      <td>NaN</td>\n",
              "      <td>NaN</td>\n",
              "      <td>NaN</td>\n",
              "      <td>NaN</td>\n",
              "    </tr>\n",
              "    <tr>\n",
              "      <th>102</th>\n",
              "      <td>State of Palestine</td>\n",
              "      <td>Middle East and North Africa</td>\n",
              "      <td>4.879</td>\n",
              "      <td>5.006</td>\n",
              "      <td>4.753</td>\n",
              "      <td>NaN</td>\n",
              "      <td>NaN</td>\n",
              "      <td>NaN</td>\n",
              "      <td>NaN</td>\n",
              "      <td>NaN</td>\n",
              "      <td>NaN</td>\n",
              "      <td>NaN</td>\n",
              "    </tr>\n",
              "  </tbody>\n",
              "</table>\n",
              "</div>"
            ],
            "text/plain": [
              "           Country name                  Regional indicator  Ladder score  \\\n",
              "61              Bahrain        Middle East and North Africa         5.959   \n",
              "87           Tajikistan  Commonwealth of Independent States         5.281   \n",
              "102  State of Palestine        Middle East and North Africa         4.879   \n",
              "\n",
              "     upperwhisker  lowerwhisker  Log GDP per capita  Social support  \\\n",
              "61          6.153         5.766                 NaN             NaN   \n",
              "87          5.361         5.201                 NaN             NaN   \n",
              "102         5.006         4.753                 NaN             NaN   \n",
              "\n",
              "     Healthy life expectancy  Freedom to make life choices  Generosity  \\\n",
              "61                       NaN                           NaN         NaN   \n",
              "87                       NaN                           NaN         NaN   \n",
              "102                      NaN                           NaN         NaN   \n",
              "\n",
              "     Perceptions of corruption  Dystopia + residual  \n",
              "61                         NaN                  NaN  \n",
              "87                         NaN                  NaN  \n",
              "102                        NaN                  NaN  "
            ]
          },
          "execution_count": 47,
          "metadata": {},
          "output_type": "execute_result"
        }
      ],
      "source": [
        "df[df.isnull().any(axis=1)]"
      ]
    },
    {
      "cell_type": "code",
      "execution_count": 48,
      "metadata": {
        "id": "ZnPPlQx5hcI3"
      },
      "outputs": [],
      "source": [
        "df.dropna(inplace=True)"
      ]
    },
    {
      "cell_type": "code",
      "execution_count": 49,
      "metadata": {
        "colab": {
          "base_uri": "https://localhost:8080/",
          "height": 101
        },
        "id": "NishfpIqhpDW",
        "outputId": "f75ff428-8f69-4350-c876-d894c4e11465"
      },
      "outputs": [
        {
          "data": {
            "text/html": [
              "<div>\n",
              "<style scoped>\n",
              "    .dataframe tbody tr th:only-of-type {\n",
              "        vertical-align: middle;\n",
              "    }\n",
              "\n",
              "    .dataframe tbody tr th {\n",
              "        vertical-align: top;\n",
              "    }\n",
              "\n",
              "    .dataframe thead th {\n",
              "        text-align: right;\n",
              "    }\n",
              "</style>\n",
              "<table border=\"1\" class=\"dataframe\">\n",
              "  <thead>\n",
              "    <tr style=\"text-align: right;\">\n",
              "      <th></th>\n",
              "      <th>Country name</th>\n",
              "      <th>Regional indicator</th>\n",
              "      <th>Ladder score</th>\n",
              "      <th>upperwhisker</th>\n",
              "      <th>lowerwhisker</th>\n",
              "      <th>Log GDP per capita</th>\n",
              "      <th>Social support</th>\n",
              "      <th>Healthy life expectancy</th>\n",
              "      <th>Freedom to make life choices</th>\n",
              "      <th>Generosity</th>\n",
              "      <th>Perceptions of corruption</th>\n",
              "      <th>Dystopia + residual</th>\n",
              "    </tr>\n",
              "  </thead>\n",
              "  <tbody>\n",
              "  </tbody>\n",
              "</table>\n",
              "</div>"
            ],
            "text/plain": [
              "Empty DataFrame\n",
              "Columns: [Country name, Regional indicator, Ladder score, upperwhisker, lowerwhisker, Log GDP per capita, Social support, Healthy life expectancy, Freedom to make life choices, Generosity, Perceptions of corruption, Dystopia + residual]\n",
              "Index: []"
            ]
          },
          "execution_count": 49,
          "metadata": {},
          "output_type": "execute_result"
        }
      ],
      "source": [
        "df[df.isnull().any(axis=1)]"
      ]
    },
    {
      "cell_type": "code",
      "execution_count": 50,
      "metadata": {
        "colab": {
          "base_uri": "https://localhost:8080/"
        },
        "id": "yORCCKWF8vT4",
        "outputId": "4b3ef00a-656d-4831-f182-56056c82aedc"
      },
      "outputs": [
        {
          "data": {
            "text/plain": [
              "np.int64(0)"
            ]
          },
          "execution_count": 50,
          "metadata": {},
          "output_type": "execute_result"
        }
      ],
      "source": [
        "df.duplicated().sum()"
      ]
    },
    {
      "cell_type": "code",
      "execution_count": 51,
      "metadata": {
        "colab": {
          "base_uri": "https://localhost:8080/",
          "height": 317
        },
        "id": "qsHfrl3E8yiM",
        "outputId": "aebd800d-60a5-47a5-8231-a68e475734a6"
      },
      "outputs": [
        {
          "data": {
            "text/html": [
              "<div>\n",
              "<style scoped>\n",
              "    .dataframe tbody tr th:only-of-type {\n",
              "        vertical-align: middle;\n",
              "    }\n",
              "\n",
              "    .dataframe tbody tr th {\n",
              "        vertical-align: top;\n",
              "    }\n",
              "\n",
              "    .dataframe thead th {\n",
              "        text-align: right;\n",
              "    }\n",
              "</style>\n",
              "<table border=\"1\" class=\"dataframe\">\n",
              "  <thead>\n",
              "    <tr style=\"text-align: right;\">\n",
              "      <th></th>\n",
              "      <th>Ladder score</th>\n",
              "      <th>upperwhisker</th>\n",
              "      <th>lowerwhisker</th>\n",
              "      <th>Log GDP per capita</th>\n",
              "      <th>Social support</th>\n",
              "      <th>Healthy life expectancy</th>\n",
              "      <th>Freedom to make life choices</th>\n",
              "      <th>Generosity</th>\n",
              "      <th>Perceptions of corruption</th>\n",
              "      <th>Dystopia + residual</th>\n",
              "    </tr>\n",
              "  </thead>\n",
              "  <tbody>\n",
              "    <tr>\n",
              "      <th>count</th>\n",
              "      <td>140.000000</td>\n",
              "      <td>140.000000</td>\n",
              "      <td>140.000000</td>\n",
              "      <td>140.000000</td>\n",
              "      <td>140.000000</td>\n",
              "      <td>140.000000</td>\n",
              "      <td>140.000000</td>\n",
              "      <td>140.000000</td>\n",
              "      <td>140.000000</td>\n",
              "      <td>140.000000</td>\n",
              "    </tr>\n",
              "    <tr>\n",
              "      <th>mean</th>\n",
              "      <td>5.530893</td>\n",
              "      <td>5.644057</td>\n",
              "      <td>5.417700</td>\n",
              "      <td>1.378807</td>\n",
              "      <td>1.134329</td>\n",
              "      <td>0.520886</td>\n",
              "      <td>0.620621</td>\n",
              "      <td>0.146271</td>\n",
              "      <td>0.154121</td>\n",
              "      <td>1.575914</td>\n",
              "    </tr>\n",
              "    <tr>\n",
              "      <th>std</th>\n",
              "      <td>1.181247</td>\n",
              "      <td>1.165108</td>\n",
              "      <td>1.198051</td>\n",
              "      <td>0.425098</td>\n",
              "      <td>0.333317</td>\n",
              "      <td>0.164923</td>\n",
              "      <td>0.162492</td>\n",
              "      <td>0.073441</td>\n",
              "      <td>0.126238</td>\n",
              "      <td>0.537459</td>\n",
              "    </tr>\n",
              "    <tr>\n",
              "      <th>min</th>\n",
              "      <td>1.721000</td>\n",
              "      <td>1.775000</td>\n",
              "      <td>1.667000</td>\n",
              "      <td>0.000000</td>\n",
              "      <td>0.000000</td>\n",
              "      <td>0.000000</td>\n",
              "      <td>0.000000</td>\n",
              "      <td>0.000000</td>\n",
              "      <td>0.000000</td>\n",
              "      <td>-0.073000</td>\n",
              "    </tr>\n",
              "    <tr>\n",
              "      <th>25%</th>\n",
              "      <td>4.631750</td>\n",
              "      <td>4.762250</td>\n",
              "      <td>4.503750</td>\n",
              "      <td>1.077750</td>\n",
              "      <td>0.921750</td>\n",
              "      <td>0.398000</td>\n",
              "      <td>0.527500</td>\n",
              "      <td>0.091000</td>\n",
              "      <td>0.068750</td>\n",
              "      <td>1.308250</td>\n",
              "    </tr>\n",
              "    <tr>\n",
              "      <th>50%</th>\n",
              "      <td>5.800500</td>\n",
              "      <td>5.911000</td>\n",
              "      <td>5.676500</td>\n",
              "      <td>1.431500</td>\n",
              "      <td>1.237500</td>\n",
              "      <td>0.549500</td>\n",
              "      <td>0.641000</td>\n",
              "      <td>0.136500</td>\n",
              "      <td>0.120500</td>\n",
              "      <td>1.644500</td>\n",
              "    </tr>\n",
              "    <tr>\n",
              "      <th>75%</th>\n",
              "      <td>6.426250</td>\n",
              "      <td>6.515250</td>\n",
              "      <td>6.338250</td>\n",
              "      <td>1.741500</td>\n",
              "      <td>1.383250</td>\n",
              "      <td>0.648500</td>\n",
              "      <td>0.736000</td>\n",
              "      <td>0.192500</td>\n",
              "      <td>0.193750</td>\n",
              "      <td>1.881750</td>\n",
              "    </tr>\n",
              "    <tr>\n",
              "      <th>max</th>\n",
              "      <td>7.741000</td>\n",
              "      <td>7.815000</td>\n",
              "      <td>7.667000</td>\n",
              "      <td>2.141000</td>\n",
              "      <td>1.617000</td>\n",
              "      <td>0.857000</td>\n",
              "      <td>0.863000</td>\n",
              "      <td>0.401000</td>\n",
              "      <td>0.575000</td>\n",
              "      <td>2.998000</td>\n",
              "    </tr>\n",
              "  </tbody>\n",
              "</table>\n",
              "</div>"
            ],
            "text/plain": [
              "       Ladder score  upperwhisker  lowerwhisker  Log GDP per capita  \\\n",
              "count    140.000000    140.000000    140.000000          140.000000   \n",
              "mean       5.530893      5.644057      5.417700            1.378807   \n",
              "std        1.181247      1.165108      1.198051            0.425098   \n",
              "min        1.721000      1.775000      1.667000            0.000000   \n",
              "25%        4.631750      4.762250      4.503750            1.077750   \n",
              "50%        5.800500      5.911000      5.676500            1.431500   \n",
              "75%        6.426250      6.515250      6.338250            1.741500   \n",
              "max        7.741000      7.815000      7.667000            2.141000   \n",
              "\n",
              "       Social support  Healthy life expectancy  Freedom to make life choices  \\\n",
              "count      140.000000               140.000000                    140.000000   \n",
              "mean         1.134329                 0.520886                      0.620621   \n",
              "std          0.333317                 0.164923                      0.162492   \n",
              "min          0.000000                 0.000000                      0.000000   \n",
              "25%          0.921750                 0.398000                      0.527500   \n",
              "50%          1.237500                 0.549500                      0.641000   \n",
              "75%          1.383250                 0.648500                      0.736000   \n",
              "max          1.617000                 0.857000                      0.863000   \n",
              "\n",
              "       Generosity  Perceptions of corruption  Dystopia + residual  \n",
              "count  140.000000                 140.000000           140.000000  \n",
              "mean     0.146271                   0.154121             1.575914  \n",
              "std      0.073441                   0.126238             0.537459  \n",
              "min      0.000000                   0.000000            -0.073000  \n",
              "25%      0.091000                   0.068750             1.308250  \n",
              "50%      0.136500                   0.120500             1.644500  \n",
              "75%      0.192500                   0.193750             1.881750  \n",
              "max      0.401000                   0.575000             2.998000  "
            ]
          },
          "execution_count": 51,
          "metadata": {},
          "output_type": "execute_result"
        }
      ],
      "source": [
        "df.describe()"
      ]
    },
    {
      "cell_type": "code",
      "execution_count": 52,
      "metadata": {
        "colab": {
          "base_uri": "https://localhost:8080/"
        },
        "id": "B9qN_oAZ9Qxb",
        "outputId": "f1b6ba49-c0d3-4d4e-8430-013fc494e1da"
      },
      "outputs": [
        {
          "data": {
            "text/plain": [
              "140"
            ]
          },
          "execution_count": 52,
          "metadata": {},
          "output_type": "execute_result"
        }
      ],
      "source": [
        "df[\"Country name\"].nunique()"
      ]
    },
    {
      "cell_type": "code",
      "execution_count": 53,
      "metadata": {
        "colab": {
          "base_uri": "https://localhost:8080/"
        },
        "id": "cX9mae_b9cvH",
        "outputId": "f85f43ef-479a-4337-a7dd-a614f620f277"
      },
      "outputs": [
        {
          "data": {
            "text/plain": [
              "10"
            ]
          },
          "execution_count": 53,
          "metadata": {},
          "output_type": "execute_result"
        }
      ],
      "source": [
        "df[\"Regional indicator\"].nunique()"
      ]
    },
    {
      "cell_type": "code",
      "execution_count": 54,
      "metadata": {
        "colab": {
          "base_uri": "https://localhost:8080/",
          "height": 81
        },
        "id": "IQITWqZ89lmB",
        "outputId": "7977bce0-7452-41a2-b50e-2f077516497e"
      },
      "outputs": [
        {
          "data": {
            "text/html": [
              "<div>\n",
              "<style scoped>\n",
              "    .dataframe tbody tr th:only-of-type {\n",
              "        vertical-align: middle;\n",
              "    }\n",
              "\n",
              "    .dataframe tbody tr th {\n",
              "        vertical-align: top;\n",
              "    }\n",
              "\n",
              "    .dataframe thead th {\n",
              "        text-align: right;\n",
              "    }\n",
              "</style>\n",
              "<table border=\"1\" class=\"dataframe\">\n",
              "  <thead>\n",
              "    <tr style=\"text-align: right;\">\n",
              "      <th></th>\n",
              "      <th>Ladder score</th>\n",
              "      <th>Country name</th>\n",
              "    </tr>\n",
              "  </thead>\n",
              "  <tbody>\n",
              "    <tr>\n",
              "      <th>0</th>\n",
              "      <td>7.741</td>\n",
              "      <td>Finland</td>\n",
              "    </tr>\n",
              "  </tbody>\n",
              "</table>\n",
              "</div>"
            ],
            "text/plain": [
              "   Ladder score Country name\n",
              "0         7.741      Finland"
            ]
          },
          "execution_count": 54,
          "metadata": {},
          "output_type": "execute_result"
        }
      ],
      "source": [
        "#happiest country\n",
        "df[[\"Ladder score\",\"Country name\"]].sort_values(by=\"Ladder score\", ascending=False).head(1)"
      ]
    },
    {
      "cell_type": "code",
      "execution_count": 55,
      "metadata": {
        "colab": {
          "base_uri": "https://localhost:8080/",
          "height": 147
        },
        "id": "3ZH19Mok-bo3",
        "outputId": "2c77a656-57ec-4581-a22f-5af2c49ef1cb"
      },
      "outputs": [
        {
          "data": {
            "text/plain": [
              "Regional indicator\n",
              "Sub-Saharan Africa    35\n",
              "Name: count, dtype: int64"
            ]
          },
          "execution_count": 55,
          "metadata": {},
          "output_type": "execute_result"
        }
      ],
      "source": [
        "#common region\n",
        "df[\"Regional indicator\"].value_counts().head(1)"
      ]
    },
    {
      "cell_type": "markdown",
      "metadata": {
        "id": "xULuRWxJ_Ds9"
      },
      "source": [
        "PART 2"
      ]
    },
    {
      "cell_type": "code",
      "execution_count": 56,
      "metadata": {
        "colab": {
          "base_uri": "https://localhost:8080/",
          "height": 449
        },
        "id": "FwEB6kIa_CXQ",
        "outputId": "0edbdb99-2cc0-4aff-eb96-1f87e98d5afb"
      },
      "outputs": [
        {
          "data": {
            "image/png": "[encoded data removed]",
            "text/plain": [
              "<Figure size 640x480 with 1 Axes>"
            ]
          },
          "metadata": {},
          "output_type": "display_data"
        }
      ],
      "source": [
        "import matplotlib.pyplot as plt\n",
        "plt.hist(df[\"Ladder score\"],color=\"orange\",edgecolor=\"black\",bins=20)\n",
        "plt.xlabel(\"Ladder score\")\n",
        "plt.ylabel(\"count\")\n",
        "plt.show()"
      ]
    },
    {
      "cell_type": "code",
      "execution_count": 57,
      "metadata": {
        "colab": {
          "base_uri": "https://localhost:8080/",
          "height": 363
        },
        "id": "4JJgtNMQAPPv",
        "outputId": "bad4b9f2-f16e-454c-f88a-819092c4c400"
      },
      "outputs": [
        {
          "data": {
            "text/html": [
              "<div>\n",
              "<style scoped>\n",
              "    .dataframe tbody tr th:only-of-type {\n",
              "        vertical-align: middle;\n",
              "    }\n",
              "\n",
              "    .dataframe tbody tr th {\n",
              "        vertical-align: top;\n",
              "    }\n",
              "\n",
              "    .dataframe thead th {\n",
              "        text-align: right;\n",
              "    }\n",
              "</style>\n",
              "<table border=\"1\" class=\"dataframe\">\n",
              "  <thead>\n",
              "    <tr style=\"text-align: right;\">\n",
              "      <th></th>\n",
              "      <th>Country name</th>\n",
              "      <th>Ladder score</th>\n",
              "    </tr>\n",
              "  </thead>\n",
              "  <tbody>\n",
              "    <tr>\n",
              "      <th>0</th>\n",
              "      <td>Finland</td>\n",
              "      <td>7.741</td>\n",
              "    </tr>\n",
              "    <tr>\n",
              "      <th>1</th>\n",
              "      <td>Denmark</td>\n",
              "      <td>7.583</td>\n",
              "    </tr>\n",
              "    <tr>\n",
              "      <th>2</th>\n",
              "      <td>Iceland</td>\n",
              "      <td>7.525</td>\n",
              "    </tr>\n",
              "    <tr>\n",
              "      <th>3</th>\n",
              "      <td>Sweden</td>\n",
              "      <td>7.344</td>\n",
              "    </tr>\n",
              "    <tr>\n",
              "      <th>4</th>\n",
              "      <td>Israel</td>\n",
              "      <td>7.341</td>\n",
              "    </tr>\n",
              "    <tr>\n",
              "      <th>5</th>\n",
              "      <td>Netherlands</td>\n",
              "      <td>7.319</td>\n",
              "    </tr>\n",
              "    <tr>\n",
              "      <th>6</th>\n",
              "      <td>Norway</td>\n",
              "      <td>7.302</td>\n",
              "    </tr>\n",
              "    <tr>\n",
              "      <th>7</th>\n",
              "      <td>Luxembourg</td>\n",
              "      <td>7.122</td>\n",
              "    </tr>\n",
              "    <tr>\n",
              "      <th>8</th>\n",
              "      <td>Switzerland</td>\n",
              "      <td>7.060</td>\n",
              "    </tr>\n",
              "    <tr>\n",
              "      <th>9</th>\n",
              "      <td>Australia</td>\n",
              "      <td>7.057</td>\n",
              "    </tr>\n",
              "  </tbody>\n",
              "</table>\n",
              "</div>"
            ],
            "text/plain": [
              "  Country name  Ladder score\n",
              "0      Finland         7.741\n",
              "1      Denmark         7.583\n",
              "2      Iceland         7.525\n",
              "3       Sweden         7.344\n",
              "4       Israel         7.341\n",
              "5  Netherlands         7.319\n",
              "6       Norway         7.302\n",
              "7   Luxembourg         7.122\n",
              "8  Switzerland         7.060\n",
              "9    Australia         7.057"
            ]
          },
          "execution_count": 57,
          "metadata": {},
          "output_type": "execute_result"
        }
      ],
      "source": [
        "#top 10 happiest countries\n",
        "df[[\"Country name\",\"Ladder score\"]].sort_values(by=\"Ladder score\",ascending=False).head(10)"
      ]
    },
    {
      "cell_type": "code",
      "execution_count": 58,
      "metadata": {
        "colab": {
          "base_uri": "https://localhost:8080/",
          "height": 363
        },
        "id": "n-qALHAbA8UL",
        "outputId": "c24af391-5689-41cb-cc07-07006ee5f451"
      },
      "outputs": [
        {
          "data": {
            "text/html": [
              "<div>\n",
              "<style scoped>\n",
              "    .dataframe tbody tr th:only-of-type {\n",
              "        vertical-align: middle;\n",
              "    }\n",
              "\n",
              "    .dataframe tbody tr th {\n",
              "        vertical-align: top;\n",
              "    }\n",
              "\n",
              "    .dataframe thead th {\n",
              "        text-align: right;\n",
              "    }\n",
              "</style>\n",
              "<table border=\"1\" class=\"dataframe\">\n",
              "  <thead>\n",
              "    <tr style=\"text-align: right;\">\n",
              "      <th></th>\n",
              "      <th>Country name</th>\n",
              "      <th>Ladder score</th>\n",
              "    </tr>\n",
              "  </thead>\n",
              "  <tbody>\n",
              "    <tr>\n",
              "      <th>142</th>\n",
              "      <td>Afghanistan</td>\n",
              "      <td>1.721</td>\n",
              "    </tr>\n",
              "    <tr>\n",
              "      <th>141</th>\n",
              "      <td>Lebanon</td>\n",
              "      <td>2.707</td>\n",
              "    </tr>\n",
              "    <tr>\n",
              "      <th>140</th>\n",
              "      <td>Lesotho</td>\n",
              "      <td>3.186</td>\n",
              "    </tr>\n",
              "    <tr>\n",
              "      <th>139</th>\n",
              "      <td>Sierra Leone</td>\n",
              "      <td>3.245</td>\n",
              "    </tr>\n",
              "    <tr>\n",
              "      <th>138</th>\n",
              "      <td>Congo (Kinshasa)</td>\n",
              "      <td>3.295</td>\n",
              "    </tr>\n",
              "    <tr>\n",
              "      <th>137</th>\n",
              "      <td>Zimbabwe</td>\n",
              "      <td>3.341</td>\n",
              "    </tr>\n",
              "    <tr>\n",
              "      <th>136</th>\n",
              "      <td>Botswana</td>\n",
              "      <td>3.383</td>\n",
              "    </tr>\n",
              "    <tr>\n",
              "      <th>135</th>\n",
              "      <td>Malawi</td>\n",
              "      <td>3.421</td>\n",
              "    </tr>\n",
              "    <tr>\n",
              "      <th>133</th>\n",
              "      <td>Zambia</td>\n",
              "      <td>3.502</td>\n",
              "    </tr>\n",
              "    <tr>\n",
              "      <th>134</th>\n",
              "      <td>Eswatini</td>\n",
              "      <td>3.502</td>\n",
              "    </tr>\n",
              "  </tbody>\n",
              "</table>\n",
              "</div>"
            ],
            "text/plain": [
              "         Country name  Ladder score\n",
              "142       Afghanistan         1.721\n",
              "141           Lebanon         2.707\n",
              "140           Lesotho         3.186\n",
              "139      Sierra Leone         3.245\n",
              "138  Congo (Kinshasa)         3.295\n",
              "137          Zimbabwe         3.341\n",
              "136          Botswana         3.383\n",
              "135            Malawi         3.421\n",
              "133            Zambia         3.502\n",
              "134          Eswatini         3.502"
            ]
          },
          "execution_count": 58,
          "metadata": {},
          "output_type": "execute_result"
        }
      ],
      "source": [
        "#Find the bottom 10 countries by happiness score.\n",
        "df[[\"Country name\",\"Ladder score\"]].sort_values(by=\"Ladder score\").head(10)"
      ]
    },
    {
      "cell_type": "code",
      "execution_count": 59,
      "metadata": {
        "colab": {
          "base_uri": "https://localhost:8080/",
          "height": 429
        },
        "id": "1YR9ODDkBBG1",
        "outputId": "342553a1-cbf5-4123-b3b4-0332e788eb2f"
      },
      "outputs": [
        {
          "data": {
            "text/plain": [
              "Regional indicator\n",
              "Central and Eastern Europe            6.170941\n",
              "Commonwealth of Independent States    5.567111\n",
              "East Asia                             5.934333\n",
              "Latin America and Caribbean           6.143368\n",
              "Middle East and North Africa          5.170733\n",
              "North America and ANZ                 6.927750\n",
              "South Asia                            3.895667\n",
              "Southeast Asia                        5.551889\n",
              "Sub-Saharan Africa                    4.329686\n",
              "Western Europe                        6.841650\n",
              "Name: Ladder score, dtype: float64"
            ]
          },
          "execution_count": 59,
          "metadata": {},
          "output_type": "execute_result"
        }
      ],
      "source": [
        "#Create a bar chart showing average happiness score per region.\n",
        "avg_happiness=df.groupby(\"Regional indicator\")[\"Ladder score\"].mean()\n",
        "avg_happiness"
      ]
    },
    {
      "cell_type": "code",
      "execution_count": 60,
      "metadata": {
        "colab": {
          "base_uri": "https://localhost:8080/",
          "height": 703
        },
        "id": "Td9KkU3OBbEY",
        "outputId": "ecddcb65-f1aa-4121-8956-35b42ed3933a"
      },
      "outputs": [
        {
          "data": {
            "image/png": "[encoded data removed]",
            "text/plain": [
              "<Figure size 640x480 with 1 Axes>"
            ]
          },
          "metadata": {},
          "output_type": "display_data"
        }
      ],
      "source": [
        "plt.bar(avg_happiness.index,avg_happiness.values,color=\"blue\")\n",
        "plt.xlabel(\"Regional indicator\")\n",
        "plt.xticks(rotation=85)\n",
        "plt.ylabel(\"Ladder score\")\n",
        "plt.show()"
      ]
    },
    {
      "cell_type": "code",
      "execution_count": 61,
      "metadata": {
        "colab": {
          "base_uri": "https://localhost:8080/",
          "height": 453
        },
        "id": "0jYnhsoMCTdv",
        "outputId": "dc16079a-6216-4136-d744-de748a4bb71a"
      },
      "outputs": [
        {
          "data": {
            "image/png": "[encoded data removed]",
            "text/plain": [
              "<Figure size 640x480 with 1 Axes>"
            ]
          },
          "metadata": {},
          "output_type": "display_data"
        }
      ],
      "source": [
        "#Scatter plot: GDP per capita vs Happiness score.\n",
        "plt.scatter(df[\"Log GDP per capita\"],df[\"Ladder score\"],color=\"green\")\n",
        "plt.xlabel(\"GDP per capita\")\n",
        "plt.ylabel(\"Ladder score\")\n",
        "plt.show()"
      ]
    },
    {
      "cell_type": "code",
      "execution_count": 62,
      "metadata": {
        "colab": {
          "base_uri": "https://localhost:8080/",
          "height": 430
        },
        "id": "Uxes8C15D63T",
        "outputId": "c0b44a11-cefe-445f-b102-21c33827a92e"
      },
      "outputs": [
        {
          "data": {
            "image/png": "[encoded data removed]",
            "text/plain": [
              "<Figure size 640x480 with 1 Axes>"
            ]
          },
          "metadata": {},
          "output_type": "display_data"
        }
      ],
      "source": [
        "#Boxplot of happiness scores grouped by region.\n",
        "plt.boxplot(avg_happiness)\n",
        "plt.show()"
      ]
    },
    {
      "cell_type": "code",
      "execution_count": 63,
      "metadata": {
        "colab": {
          "base_uri": "https://localhost:8080/",
          "height": 607
        },
        "id": "abf4a632",
        "outputId": "c8c44881-fbd6-485e-8566-d2f9129b92e9"
      },
      "outputs": [
        {
          "data": {
            "image/png": "[encoded data removed]",
            "text/plain": [
              "<Figure size 1200x600 with 1 Axes>"
            ]
          },
          "metadata": {},
          "output_type": "display_data"
        }
      ],
      "source": [
        "import seaborn as sns\n",
        "import matplotlib.pyplot as plt\n",
        "\n",
        "plt.figure(figsize=(12, 6))\n",
        "sns.boxplot(x=\"Regional indicator\", y=\"Ladder score\", data=df)\n",
        "plt.xticks(rotation=85)\n",
        "plt.xlabel(\"Regional indicator\")\n",
        "plt.ylabel(\"Ladder score\")\n",
        "plt.title(\"Ladder Score Distribution by Regional Indicator\")\n",
        "plt.tight_layout()\n",
        "plt.show()"
      ]
    },
    {
      "cell_type": "markdown",
      "metadata": {
        "id": "kyCp8T8Vbuji"
      },
      "source": [
        "PART 3"
      ]
    },
    {
      "cell_type": "code",
      "execution_count": 64,
      "metadata": {
        "colab": {
          "base_uri": "https://localhost:8080/"
        },
        "id": "bw_wNWBNbsDc",
        "outputId": "3b4e36ca-9711-433f-f9ce-e72c8e182d5e"
      },
      "outputs": [
        {
          "name": "stdout",
          "output_type": "stream",
          "text": [
            "5.530892857142858\n",
            "5.8004999999999995\n",
            "1.3953441539054463\n",
            "1.1812468640827989\n"
          ]
        }
      ],
      "source": [
        "#mean, median, variance, std deviation\n",
        "print(df[\"Ladder score\"].mean())\n",
        "print(df[\"Ladder score\"].median())\n",
        "print(df[\"Ladder score\"].var())\n",
        "print(df[\"Ladder score\"].std())"
      ]
    },
    {
      "cell_type": "code",
      "execution_count": 65,
      "metadata": {
        "colab": {
          "base_uri": "https://localhost:8080/"
        },
        "id": "FsnsnmrocVrQ",
        "outputId": "19657e22-a86c-41f0-b892-da3f2668bf1f"
      },
      "outputs": [
        {
          "name": "stdout",
          "output_type": "stream",
          "text": [
            "0    3.502\n",
            "1    5.816\n",
            "2    6.188\n",
            "Name: Ladder score, dtype: float64\n"
          ]
        }
      ],
      "source": [
        "#mode\n",
        "print(df[\"Ladder score\"].mode())"
      ]
    },
    {
      "cell_type": "code",
      "execution_count": 66,
      "metadata": {
        "colab": {
          "base_uri": "https://localhost:8080/"
        },
        "id": "nnLr3eBgegkC",
        "outputId": "b298fcf8-4917-4b00-e282-11f7c4fbc4f3"
      },
      "outputs": [
        {
          "name": "stdout",
          "output_type": "stream",
          "text": [
            "140\n"
          ]
        }
      ],
      "source": [
        "#total countries\n",
        "total_countries=df['Country name'].value_counts().sum()\n",
        "print(total_countries)"
      ]
    },
    {
      "cell_type": "code",
      "execution_count": 67,
      "metadata": {
        "colab": {
          "base_uri": "https://localhost:8080/"
        },
        "id": "w9TIQHY7hAZH",
        "outputId": "c0ce0060-aec3-48a4-8df7-1f1878ad0656"
      },
      "outputs": [
        {
          "name": "stdout",
          "output_type": "stream",
          "text": [
            "140\n"
          ]
        }
      ],
      "source": [
        "print(df.shape[0])"
      ]
    },
    {
      "cell_type": "code",
      "execution_count": 68,
      "metadata": {
        "colab": {
          "base_uri": "https://localhost:8080/"
        },
        "id": "9MQWB83viTLf",
        "outputId": "01b013d3-2caf-4f20-ae63-2e420d01cc4a"
      },
      "outputs": [
        {
          "name": "stdout",
          "output_type": "stream",
          "text": [
            "61\n"
          ]
        }
      ],
      "source": [
        "countries_below_avg=df[df[\"Ladder score\"]<df[\"Ladder score\"].mean()].shape[0]\n",
        "print(countries_below_avg)"
      ]
    },
    {
      "cell_type": "code",
      "execution_count": 69,
      "metadata": {
        "colab": {
          "base_uri": "https://localhost:8080/"
        },
        "id": "iD7g_h-mjBVs",
        "outputId": "f6f89409-0880-466a-c79a-1bb186dbbde5"
      },
      "outputs": [
        {
          "name": "stdout",
          "output_type": "stream",
          "text": [
            "43.57142857142857\n"
          ]
        }
      ],
      "source": [
        "#percentage of countries below avg ladder score\n",
        "percentage=(countries_below_avg/total_countries)*100\n",
        "print(percentage)"
      ]
    },
    {
      "cell_type": "code",
      "execution_count": 70,
      "metadata": {
        "colab": {
          "base_uri": "https://localhost:8080/",
          "height": 147
        },
        "id": "6788b45b",
        "outputId": "7064ee52-6f86-4589-b286-03fcdb208453"
      },
      "outputs": [
        {
          "data": {
            "text/plain": [
              "Regional indicator\n",
              "Western Europe    12\n",
              "Name: count, dtype: int64"
            ]
          },
          "metadata": {},
          "output_type": "display_data"
        }
      ],
      "source": [
        "#Most common region among top 20 countries by happiness.\n",
        "top_20_countries = df.sort_values(by=\"Ladder score\", ascending=False).head(20)\n",
        "most_common_region_in_top_20 = top_20_countries[\"Regional indicator\"].value_counts().head(1)\n",
        "display(most_common_region_in_top_20)"
      ]
    },
    {
      "cell_type": "markdown",
      "metadata": {
        "id": "jgw7iE-qoxS_"
      },
      "source": [
        "PART 5"
      ]
    },
    {
      "cell_type": "code",
      "execution_count": 71,
      "metadata": {
        "colab": {
          "base_uri": "https://localhost:8080/",
          "height": 39
        },
        "id": "BVj5kFwhpLD5",
        "outputId": "80bfe286-2d84-4bef-ea93-8ce19304286a"
      },
      "outputs": [
        {
          "data": {
            "text/latex": [
              "$\\displaystyle 1.0 x + y - 5.0$"
            ],
            "text/plain": [
              "1.0*x + y - 5.0"
            ]
          },
          "execution_count": 71,
          "metadata": {},
          "output_type": "execute_result"
        }
      ],
      "source": [
        "#well being index\n",
        "import sympy as sp\n",
        "#x=Happiness, y=GDP\n",
        "x,y=sp.symbols(\"x,y\")\n",
        "Well_Index=(x*y)+0.5*(x-5)**2\n",
        "sp.diff((x*y)+0.5*(x-5)**2,x)"
      ]
    },
    {
      "cell_type": "markdown",
      "metadata": {
        "id": "mLw7TY_No1yB"
      },
      "source": [
        "PART 6"
      ]
    },
    {
      "cell_type": "code",
      "execution_count": 72,
      "metadata": {
        "colab": {
          "base_uri": "https://localhost:8080/",
          "height": 432
        },
        "id": "90a29ec7",
        "outputId": "3582f78c-056f-45c7-9dcb-f2d2c8a3c9e7"
      },
      "outputs": [
        {
          "data": {
            "text/html": [
              "<div>\n",
              "<style scoped>\n",
              "    .dataframe tbody tr th:only-of-type {\n",
              "        vertical-align: middle;\n",
              "    }\n",
              "\n",
              "    .dataframe tbody tr th {\n",
              "        vertical-align: top;\n",
              "    }\n",
              "\n",
              "    .dataframe thead th {\n",
              "        text-align: right;\n",
              "    }\n",
              "</style>\n",
              "<table border=\"1\" class=\"dataframe\">\n",
              "  <thead>\n",
              "    <tr style=\"text-align: right;\">\n",
              "      <th></th>\n",
              "      <th>Country name</th>\n",
              "      <th>Regional indicator</th>\n",
              "      <th>Ladder score</th>\n",
              "      <th>upperwhisker</th>\n",
              "      <th>lowerwhisker</th>\n",
              "      <th>Log GDP per capita</th>\n",
              "      <th>Social support</th>\n",
              "      <th>Healthy life expectancy</th>\n",
              "      <th>Freedom to make life choices</th>\n",
              "      <th>Generosity</th>\n",
              "      <th>Perceptions of corruption</th>\n",
              "      <th>Dystopia + residual</th>\n",
              "      <th>is_happy</th>\n",
              "    </tr>\n",
              "  </thead>\n",
              "  <tbody>\n",
              "    <tr>\n",
              "      <th>0</th>\n",
              "      <td>Finland</td>\n",
              "      <td>Western Europe</td>\n",
              "      <td>7.741</td>\n",
              "      <td>7.815</td>\n",
              "      <td>7.667</td>\n",
              "      <td>1.844</td>\n",
              "      <td>1.572</td>\n",
              "      <td>0.695</td>\n",
              "      <td>0.859</td>\n",
              "      <td>0.142</td>\n",
              "      <td>0.546</td>\n",
              "      <td>2.082</td>\n",
              "      <td>1</td>\n",
              "    </tr>\n",
              "    <tr>\n",
              "      <th>1</th>\n",
              "      <td>Denmark</td>\n",
              "      <td>Western Europe</td>\n",
              "      <td>7.583</td>\n",
              "      <td>7.665</td>\n",
              "      <td>7.500</td>\n",
              "      <td>1.908</td>\n",
              "      <td>1.520</td>\n",
              "      <td>0.699</td>\n",
              "      <td>0.823</td>\n",
              "      <td>0.204</td>\n",
              "      <td>0.548</td>\n",
              "      <td>1.881</td>\n",
              "      <td>1</td>\n",
              "    </tr>\n",
              "    <tr>\n",
              "      <th>2</th>\n",
              "      <td>Iceland</td>\n",
              "      <td>Western Europe</td>\n",
              "      <td>7.525</td>\n",
              "      <td>7.618</td>\n",
              "      <td>7.433</td>\n",
              "      <td>1.881</td>\n",
              "      <td>1.617</td>\n",
              "      <td>0.718</td>\n",
              "      <td>0.819</td>\n",
              "      <td>0.258</td>\n",
              "      <td>0.182</td>\n",
              "      <td>2.050</td>\n",
              "      <td>1</td>\n",
              "    </tr>\n",
              "    <tr>\n",
              "      <th>3</th>\n",
              "      <td>Sweden</td>\n",
              "      <td>Western Europe</td>\n",
              "      <td>7.344</td>\n",
              "      <td>7.422</td>\n",
              "      <td>7.267</td>\n",
              "      <td>1.878</td>\n",
              "      <td>1.501</td>\n",
              "      <td>0.724</td>\n",
              "      <td>0.838</td>\n",
              "      <td>0.221</td>\n",
              "      <td>0.524</td>\n",
              "      <td>1.658</td>\n",
              "      <td>1</td>\n",
              "    </tr>\n",
              "    <tr>\n",
              "      <th>4</th>\n",
              "      <td>Israel</td>\n",
              "      <td>Middle East and North Africa</td>\n",
              "      <td>7.341</td>\n",
              "      <td>7.405</td>\n",
              "      <td>7.277</td>\n",
              "      <td>1.803</td>\n",
              "      <td>1.513</td>\n",
              "      <td>0.740</td>\n",
              "      <td>0.641</td>\n",
              "      <td>0.153</td>\n",
              "      <td>0.193</td>\n",
              "      <td>2.298</td>\n",
              "      <td>1</td>\n",
              "    </tr>\n",
              "    <tr>\n",
              "      <th>5</th>\n",
              "      <td>Netherlands</td>\n",
              "      <td>Western Europe</td>\n",
              "      <td>7.319</td>\n",
              "      <td>7.383</td>\n",
              "      <td>7.256</td>\n",
              "      <td>1.901</td>\n",
              "      <td>1.462</td>\n",
              "      <td>0.706</td>\n",
              "      <td>0.725</td>\n",
              "      <td>0.247</td>\n",
              "      <td>0.372</td>\n",
              "      <td>1.906</td>\n",
              "      <td>1</td>\n",
              "    </tr>\n",
              "    <tr>\n",
              "      <th>6</th>\n",
              "      <td>Norway</td>\n",
              "      <td>Western Europe</td>\n",
              "      <td>7.302</td>\n",
              "      <td>7.389</td>\n",
              "      <td>7.215</td>\n",
              "      <td>1.952</td>\n",
              "      <td>1.517</td>\n",
              "      <td>0.704</td>\n",
              "      <td>0.835</td>\n",
              "      <td>0.224</td>\n",
              "      <td>0.484</td>\n",
              "      <td>1.586</td>\n",
              "      <td>1</td>\n",
              "    </tr>\n",
              "    <tr>\n",
              "      <th>7</th>\n",
              "      <td>Luxembourg</td>\n",
              "      <td>Western Europe</td>\n",
              "      <td>7.122</td>\n",
              "      <td>7.213</td>\n",
              "      <td>7.031</td>\n",
              "      <td>2.141</td>\n",
              "      <td>1.355</td>\n",
              "      <td>0.708</td>\n",
              "      <td>0.801</td>\n",
              "      <td>0.146</td>\n",
              "      <td>0.432</td>\n",
              "      <td>1.540</td>\n",
              "      <td>1</td>\n",
              "    </tr>\n",
              "    <tr>\n",
              "      <th>8</th>\n",
              "      <td>Switzerland</td>\n",
              "      <td>Western Europe</td>\n",
              "      <td>7.060</td>\n",
              "      <td>7.147</td>\n",
              "      <td>6.973</td>\n",
              "      <td>1.970</td>\n",
              "      <td>1.425</td>\n",
              "      <td>0.747</td>\n",
              "      <td>0.759</td>\n",
              "      <td>0.173</td>\n",
              "      <td>0.498</td>\n",
              "      <td>1.488</td>\n",
              "      <td>1</td>\n",
              "    </tr>\n",
              "    <tr>\n",
              "      <th>9</th>\n",
              "      <td>Australia</td>\n",
              "      <td>North America and ANZ</td>\n",
              "      <td>7.057</td>\n",
              "      <td>7.141</td>\n",
              "      <td>6.973</td>\n",
              "      <td>1.854</td>\n",
              "      <td>1.461</td>\n",
              "      <td>0.692</td>\n",
              "      <td>0.756</td>\n",
              "      <td>0.225</td>\n",
              "      <td>0.323</td>\n",
              "      <td>1.745</td>\n",
              "      <td>1</td>\n",
              "    </tr>\n",
              "  </tbody>\n",
              "</table>\n",
              "</div>"
            ],
            "text/plain": [
              "  Country name            Regional indicator  Ladder score  upperwhisker  \\\n",
              "0      Finland                Western Europe         7.741         7.815   \n",
              "1      Denmark                Western Europe         7.583         7.665   \n",
              "2      Iceland                Western Europe         7.525         7.618   \n",
              "3       Sweden                Western Europe         7.344         7.422   \n",
              "4       Israel  Middle East and North Africa         7.341         7.405   \n",
              "5  Netherlands                Western Europe         7.319         7.383   \n",
              "6       Norway                Western Europe         7.302         7.389   \n",
              "7   Luxembourg                Western Europe         7.122         7.213   \n",
              "8  Switzerland                Western Europe         7.060         7.147   \n",
              "9    Australia         North America and ANZ         7.057         7.141   \n",
              "\n",
              "   lowerwhisker  Log GDP per capita  Social support  Healthy life expectancy  \\\n",
              "0         7.667               1.844           1.572                    0.695   \n",
              "1         7.500               1.908           1.520                    0.699   \n",
              "2         7.433               1.881           1.617                    0.718   \n",
              "3         7.267               1.878           1.501                    0.724   \n",
              "4         7.277               1.803           1.513                    0.740   \n",
              "5         7.256               1.901           1.462                    0.706   \n",
              "6         7.215               1.952           1.517                    0.704   \n",
              "7         7.031               2.141           1.355                    0.708   \n",
              "8         6.973               1.970           1.425                    0.747   \n",
              "9         6.973               1.854           1.461                    0.692   \n",
              "\n",
              "   Freedom to make life choices  Generosity  Perceptions of corruption  \\\n",
              "0                         0.859       0.142                      0.546   \n",
              "1                         0.823       0.204                      0.548   \n",
              "2                         0.819       0.258                      0.182   \n",
              "3                         0.838       0.221                      0.524   \n",
              "4                         0.641       0.153                      0.193   \n",
              "5                         0.725       0.247                      0.372   \n",
              "6                         0.835       0.224                      0.484   \n",
              "7                         0.801       0.146                      0.432   \n",
              "8                         0.759       0.173                      0.498   \n",
              "9                         0.756       0.225                      0.323   \n",
              "\n",
              "   Dystopia + residual  is_happy  \n",
              "0                2.082         1  \n",
              "1                1.881         1  \n",
              "2                2.050         1  \n",
              "3                1.658         1  \n",
              "4                2.298         1  \n",
              "5                1.906         1  \n",
              "6                1.586         1  \n",
              "7                1.540         1  \n",
              "8                1.488         1  \n",
              "9                1.745         1  "
            ]
          },
          "metadata": {},
          "output_type": "display_data"
        }
      ],
      "source": [
        "df['is_happy'] = (df['Ladder score'] > 7).astype(int)\n",
        "display(df.head(10))"
      ]
    },
    {
      "cell_type": "code",
      "execution_count": 73,
      "metadata": {
        "colab": {
          "base_uri": "https://localhost:8080/",
          "height": 423
        },
        "id": "tq0sVqJt6Wvr",
        "outputId": "b665a72f-711d-47fe-d086-f4bbba7c43ff"
      },
      "outputs": [
        {
          "data": {
            "text/html": [
              "<div>\n",
              "<style scoped>\n",
              "    .dataframe tbody tr th:only-of-type {\n",
              "        vertical-align: middle;\n",
              "    }\n",
              "\n",
              "    .dataframe tbody tr th {\n",
              "        vertical-align: top;\n",
              "    }\n",
              "\n",
              "    .dataframe thead th {\n",
              "        text-align: right;\n",
              "    }\n",
              "</style>\n",
              "<table border=\"1\" class=\"dataframe\">\n",
              "  <thead>\n",
              "    <tr style=\"text-align: right;\">\n",
              "      <th></th>\n",
              "      <th>Country name</th>\n",
              "      <th>Regional indicator</th>\n",
              "      <th>Ladder score</th>\n",
              "    </tr>\n",
              "  </thead>\n",
              "  <tbody>\n",
              "    <tr>\n",
              "      <th>0</th>\n",
              "      <td>Finland</td>\n",
              "      <td>Western Europe</td>\n",
              "      <td>7.741</td>\n",
              "    </tr>\n",
              "    <tr>\n",
              "      <th>1</th>\n",
              "      <td>Denmark</td>\n",
              "      <td>Western Europe</td>\n",
              "      <td>7.583</td>\n",
              "    </tr>\n",
              "    <tr>\n",
              "      <th>2</th>\n",
              "      <td>Iceland</td>\n",
              "      <td>Western Europe</td>\n",
              "      <td>7.525</td>\n",
              "    </tr>\n",
              "    <tr>\n",
              "      <th>3</th>\n",
              "      <td>Sweden</td>\n",
              "      <td>Western Europe</td>\n",
              "      <td>7.344</td>\n",
              "    </tr>\n",
              "    <tr>\n",
              "      <th>4</th>\n",
              "      <td>Israel</td>\n",
              "      <td>Middle East and North Africa</td>\n",
              "      <td>7.341</td>\n",
              "    </tr>\n",
              "    <tr>\n",
              "      <th>...</th>\n",
              "      <td>...</td>\n",
              "      <td>...</td>\n",
              "      <td>...</td>\n",
              "    </tr>\n",
              "    <tr>\n",
              "      <th>138</th>\n",
              "      <td>Congo (Kinshasa)</td>\n",
              "      <td>Sub-Saharan Africa</td>\n",
              "      <td>3.295</td>\n",
              "    </tr>\n",
              "    <tr>\n",
              "      <th>139</th>\n",
              "      <td>Sierra Leone</td>\n",
              "      <td>Sub-Saharan Africa</td>\n",
              "      <td>3.245</td>\n",
              "    </tr>\n",
              "    <tr>\n",
              "      <th>140</th>\n",
              "      <td>Lesotho</td>\n",
              "      <td>Sub-Saharan Africa</td>\n",
              "      <td>3.186</td>\n",
              "    </tr>\n",
              "    <tr>\n",
              "      <th>141</th>\n",
              "      <td>Lebanon</td>\n",
              "      <td>Middle East and North Africa</td>\n",
              "      <td>2.707</td>\n",
              "    </tr>\n",
              "    <tr>\n",
              "      <th>142</th>\n",
              "      <td>Afghanistan</td>\n",
              "      <td>South Asia</td>\n",
              "      <td>1.721</td>\n",
              "    </tr>\n",
              "  </tbody>\n",
              "</table>\n",
              "<p>140 rows × 3 columns</p>\n",
              "</div>"
            ],
            "text/plain": [
              "         Country name            Regional indicator  Ladder score\n",
              "0             Finland                Western Europe         7.741\n",
              "1             Denmark                Western Europe         7.583\n",
              "2             Iceland                Western Europe         7.525\n",
              "3              Sweden                Western Europe         7.344\n",
              "4              Israel  Middle East and North Africa         7.341\n",
              "..                ...                           ...           ...\n",
              "138  Congo (Kinshasa)            Sub-Saharan Africa         3.295\n",
              "139      Sierra Leone            Sub-Saharan Africa         3.245\n",
              "140           Lesotho            Sub-Saharan Africa         3.186\n",
              "141           Lebanon  Middle East and North Africa         2.707\n",
              "142       Afghanistan                    South Asia         1.721\n",
              "\n",
              "[140 rows x 3 columns]"
            ]
          },
          "execution_count": 73,
          "metadata": {},
          "output_type": "execute_result"
        }
      ],
      "source": [
        "happiness_rank=df[[\"Country name\",\"Regional indicator\",\"Ladder score\"]].sort_values(by=\"Ladder score\",ascending=False)\n",
        "happiness_rank"
      ]
    },
    {
      "cell_type": "code",
      "execution_count": 74,
      "metadata": {
        "colab": {
          "base_uri": "https://localhost:8080/",
          "height": 423
        },
        "id": "WjWfNFAh83Vc",
        "outputId": "6cd04f8a-8b4a-4530-93ff-5cb7a30d42e9"
      },
      "outputs": [
        {
          "data": {
            "text/html": [
              "<div>\n",
              "<style scoped>\n",
              "    .dataframe tbody tr th:only-of-type {\n",
              "        vertical-align: middle;\n",
              "    }\n",
              "\n",
              "    .dataframe tbody tr th {\n",
              "        vertical-align: top;\n",
              "    }\n",
              "\n",
              "    .dataframe thead th {\n",
              "        text-align: right;\n",
              "    }\n",
              "</style>\n",
              "<table border=\"1\" class=\"dataframe\">\n",
              "  <thead>\n",
              "    <tr style=\"text-align: right;\">\n",
              "      <th></th>\n",
              "      <th>Country name</th>\n",
              "      <th>above_average_gdp</th>\n",
              "    </tr>\n",
              "  </thead>\n",
              "  <tbody>\n",
              "    <tr>\n",
              "      <th>0</th>\n",
              "      <td>Finland</td>\n",
              "      <td>1</td>\n",
              "    </tr>\n",
              "    <tr>\n",
              "      <th>1</th>\n",
              "      <td>Denmark</td>\n",
              "      <td>1</td>\n",
              "    </tr>\n",
              "    <tr>\n",
              "      <th>2</th>\n",
              "      <td>Iceland</td>\n",
              "      <td>1</td>\n",
              "    </tr>\n",
              "    <tr>\n",
              "      <th>3</th>\n",
              "      <td>Sweden</td>\n",
              "      <td>1</td>\n",
              "    </tr>\n",
              "    <tr>\n",
              "      <th>4</th>\n",
              "      <td>Israel</td>\n",
              "      <td>1</td>\n",
              "    </tr>\n",
              "    <tr>\n",
              "      <th>...</th>\n",
              "      <td>...</td>\n",
              "      <td>...</td>\n",
              "    </tr>\n",
              "    <tr>\n",
              "      <th>138</th>\n",
              "      <td>Congo (Kinshasa)</td>\n",
              "      <td>0</td>\n",
              "    </tr>\n",
              "    <tr>\n",
              "      <th>139</th>\n",
              "      <td>Sierra Leone</td>\n",
              "      <td>0</td>\n",
              "    </tr>\n",
              "    <tr>\n",
              "      <th>140</th>\n",
              "      <td>Lesotho</td>\n",
              "      <td>0</td>\n",
              "    </tr>\n",
              "    <tr>\n",
              "      <th>141</th>\n",
              "      <td>Lebanon</td>\n",
              "      <td>0</td>\n",
              "    </tr>\n",
              "    <tr>\n",
              "      <th>142</th>\n",
              "      <td>Afghanistan</td>\n",
              "      <td>0</td>\n",
              "    </tr>\n",
              "  </tbody>\n",
              "</table>\n",
              "<p>140 rows × 2 columns</p>\n",
              "</div>"
            ],
            "text/plain": [
              "         Country name  above_average_gdp\n",
              "0             Finland                  1\n",
              "1             Denmark                  1\n",
              "2             Iceland                  1\n",
              "3              Sweden                  1\n",
              "4              Israel                  1\n",
              "..                ...                ...\n",
              "138  Congo (Kinshasa)                  0\n",
              "139      Sierra Leone                  0\n",
              "140           Lesotho                  0\n",
              "141           Lebanon                  0\n",
              "142       Afghanistan                  0\n",
              "\n",
              "[140 rows x 2 columns]"
            ]
          },
          "execution_count": 74,
          "metadata": {},
          "output_type": "execute_result"
        }
      ],
      "source": [
        "df[\"above_average_gdp\"]=(df[\"Log GDP per capita\"]>df[\"Log GDP per capita\"].mean()).astype(int)\n",
        "df[[\"Country name\",\"above_average_gdp\"]]"
      ]
    },
    {
      "cell_type": "code",
      "execution_count": 75,
      "metadata": {
        "colab": {
          "base_uri": "https://localhost:8080/",
          "height": 423
        },
        "id": "krL-YVnu-rhM",
        "outputId": "9601c062-c2a7-404f-a982-d5e042d5fd7c"
      },
      "outputs": [
        {
          "data": {
            "text/html": [
              "<div>\n",
              "<style scoped>\n",
              "    .dataframe tbody tr th:only-of-type {\n",
              "        vertical-align: middle;\n",
              "    }\n",
              "\n",
              "    .dataframe tbody tr th {\n",
              "        vertical-align: top;\n",
              "    }\n",
              "\n",
              "    .dataframe thead th {\n",
              "        text-align: right;\n",
              "    }\n",
              "</style>\n",
              "<table border=\"1\" class=\"dataframe\">\n",
              "  <thead>\n",
              "    <tr style=\"text-align: right;\">\n",
              "      <th></th>\n",
              "      <th>Country name</th>\n",
              "      <th>Healthy life expectancy quartiles</th>\n",
              "    </tr>\n",
              "  </thead>\n",
              "  <tbody>\n",
              "    <tr>\n",
              "      <th>0</th>\n",
              "      <td>Finland</td>\n",
              "      <td>3</td>\n",
              "    </tr>\n",
              "    <tr>\n",
              "      <th>1</th>\n",
              "      <td>Denmark</td>\n",
              "      <td>3</td>\n",
              "    </tr>\n",
              "    <tr>\n",
              "      <th>2</th>\n",
              "      <td>Iceland</td>\n",
              "      <td>3</td>\n",
              "    </tr>\n",
              "    <tr>\n",
              "      <th>3</th>\n",
              "      <td>Sweden</td>\n",
              "      <td>3</td>\n",
              "    </tr>\n",
              "    <tr>\n",
              "      <th>4</th>\n",
              "      <td>Israel</td>\n",
              "      <td>3</td>\n",
              "    </tr>\n",
              "    <tr>\n",
              "      <th>...</th>\n",
              "      <td>...</td>\n",
              "      <td>...</td>\n",
              "    </tr>\n",
              "    <tr>\n",
              "      <th>138</th>\n",
              "      <td>Congo (Kinshasa)</td>\n",
              "      <td>0</td>\n",
              "    </tr>\n",
              "    <tr>\n",
              "      <th>139</th>\n",
              "      <td>Sierra Leone</td>\n",
              "      <td>0</td>\n",
              "    </tr>\n",
              "    <tr>\n",
              "      <th>140</th>\n",
              "      <td>Lesotho</td>\n",
              "      <td>0</td>\n",
              "    </tr>\n",
              "    <tr>\n",
              "      <th>141</th>\n",
              "      <td>Lebanon</td>\n",
              "      <td>2</td>\n",
              "    </tr>\n",
              "    <tr>\n",
              "      <th>142</th>\n",
              "      <td>Afghanistan</td>\n",
              "      <td>0</td>\n",
              "    </tr>\n",
              "  </tbody>\n",
              "</table>\n",
              "<p>140 rows × 2 columns</p>\n",
              "</div>"
            ],
            "text/plain": [
              "         Country name  Healthy life expectancy quartiles\n",
              "0             Finland                                  3\n",
              "1             Denmark                                  3\n",
              "2             Iceland                                  3\n",
              "3              Sweden                                  3\n",
              "4              Israel                                  3\n",
              "..                ...                                ...\n",
              "138  Congo (Kinshasa)                                  0\n",
              "139      Sierra Leone                                  0\n",
              "140           Lesotho                                  0\n",
              "141           Lebanon                                  2\n",
              "142       Afghanistan                                  0\n",
              "\n",
              "[140 rows x 2 columns]"
            ]
          },
          "execution_count": 75,
          "metadata": {},
          "output_type": "execute_result"
        }
      ],
      "source": [
        "import pandas as pd\n",
        "df[\"Healthy life expectancy quartiles\"]=pd.qcut(df[\"Healthy life expectancy\"],q=4,labels=False)\n",
        "df[[\"Country name\",\"Healthy life expectancy quartiles\"]]"
      ]
    },
    {
      "cell_type": "markdown",
      "metadata": {
        "id": "sGNnS4qhpDKO"
      },
      "source": [
        "PART 7"
      ]
    },
    {
      "cell_type": "code",
      "execution_count": 76,
      "metadata": {
        "colab": {
          "base_uri": "https://localhost:8080/",
          "height": 394
        },
        "id": "fwdx8XHjpN6g",
        "outputId": "d54bd22b-d12d-40a1-fa5d-dfa059069499"
      },
      "outputs": [
        {
          "data": {
            "text/html": [
              "<div>\n",
              "<style scoped>\n",
              "    .dataframe tbody tr th:only-of-type {\n",
              "        vertical-align: middle;\n",
              "    }\n",
              "\n",
              "    .dataframe tbody tr th {\n",
              "        vertical-align: top;\n",
              "    }\n",
              "\n",
              "    .dataframe thead th {\n",
              "        text-align: right;\n",
              "    }\n",
              "</style>\n",
              "<table border=\"1\" class=\"dataframe\">\n",
              "  <thead>\n",
              "    <tr style=\"text-align: right;\">\n",
              "      <th></th>\n",
              "      <th>Ladder score</th>\n",
              "      <th>Country name</th>\n",
              "    </tr>\n",
              "  </thead>\n",
              "  <tbody>\n",
              "    <tr>\n",
              "      <th>0</th>\n",
              "      <td>7.741</td>\n",
              "      <td>Finland</td>\n",
              "    </tr>\n",
              "    <tr>\n",
              "      <th>1</th>\n",
              "      <td>7.583</td>\n",
              "      <td>Denmark</td>\n",
              "    </tr>\n",
              "    <tr>\n",
              "      <th>2</th>\n",
              "      <td>7.525</td>\n",
              "      <td>Iceland</td>\n",
              "    </tr>\n",
              "    <tr>\n",
              "      <th>3</th>\n",
              "      <td>7.344</td>\n",
              "      <td>Sweden</td>\n",
              "    </tr>\n",
              "    <tr>\n",
              "      <th>4</th>\n",
              "      <td>7.341</td>\n",
              "      <td>Israel</td>\n",
              "    </tr>\n",
              "    <tr>\n",
              "      <th>5</th>\n",
              "      <td>7.319</td>\n",
              "      <td>Netherlands</td>\n",
              "    </tr>\n",
              "    <tr>\n",
              "      <th>6</th>\n",
              "      <td>7.302</td>\n",
              "      <td>Norway</td>\n",
              "    </tr>\n",
              "    <tr>\n",
              "      <th>7</th>\n",
              "      <td>7.122</td>\n",
              "      <td>Luxembourg</td>\n",
              "    </tr>\n",
              "    <tr>\n",
              "      <th>8</th>\n",
              "      <td>7.060</td>\n",
              "      <td>Switzerland</td>\n",
              "    </tr>\n",
              "    <tr>\n",
              "      <th>9</th>\n",
              "      <td>7.057</td>\n",
              "      <td>Australia</td>\n",
              "    </tr>\n",
              "    <tr>\n",
              "      <th>10</th>\n",
              "      <td>7.029</td>\n",
              "      <td>New Zealand</td>\n",
              "    </tr>\n",
              "  </tbody>\n",
              "</table>\n",
              "</div>"
            ],
            "text/plain": [
              "    Ladder score Country name\n",
              "0          7.741      Finland\n",
              "1          7.583      Denmark\n",
              "2          7.525      Iceland\n",
              "3          7.344       Sweden\n",
              "4          7.341       Israel\n",
              "5          7.319  Netherlands\n",
              "6          7.302       Norway\n",
              "7          7.122   Luxembourg\n",
              "8          7.060  Switzerland\n",
              "9          7.057    Australia\n",
              "10         7.029  New Zealand"
            ]
          },
          "execution_count": 76,
          "metadata": {},
          "output_type": "execute_result"
        }
      ],
      "source": [
        "#Select all countries with happiness score > 7.\n",
        "happy_countries=df[df[\"Ladder score\"]>7]\n",
        "happy_countries[[\"Ladder score\",\"Country name\"]]"
      ]
    },
    {
      "cell_type": "code",
      "execution_count": 77,
      "metadata": {
        "colab": {
          "base_uri": "https://localhost:8080/",
          "height": 458
        },
        "id": "GimzpvSzzaaH",
        "outputId": "a092ec1f-7da6-431c-dfb1-d204f43911a3"
      },
      "outputs": [
        {
          "data": {
            "text/plain": [
              "7      2.141\n",
              "16     2.129\n",
              "29     2.118\n",
              "21     1.983\n",
              "8      1.970\n",
              "       ...  \n",
              "112    0.603\n",
              "108    0.573\n",
              "89     0.560\n",
              "138    0.534\n",
              "78     0.000\n",
              "Name: Log GDP per capita, Length: 140, dtype: float64"
            ]
          },
          "execution_count": 77,
          "metadata": {},
          "output_type": "execute_result"
        }
      ],
      "source": [
        "#Select all countries with happiness score > 7.\n",
        "df['Log GDP per capita'].sort_values(ascending=False)"
      ]
    },
    {
      "cell_type": "code",
      "execution_count": 78,
      "metadata": {
        "colab": {
          "base_uri": "https://localhost:8080/",
          "height": 429
        },
        "id": "foz0YMy00Bz4",
        "outputId": "1889e02d-bd63-40d3-999f-0b4c0953818a"
      },
      "outputs": [
        {
          "data": {
            "text/plain": [
              "Regional indicator\n",
              "Central and Eastern Europe            6.170941\n",
              "Commonwealth of Independent States    5.567111\n",
              "East Asia                             5.934333\n",
              "Latin America and Caribbean           6.143368\n",
              "Middle East and North Africa          5.170733\n",
              "North America and ANZ                 6.927750\n",
              "South Asia                            3.895667\n",
              "Southeast Asia                        5.551889\n",
              "Sub-Saharan Africa                    4.329686\n",
              "Western Europe                        6.841650\n",
              "Name: Ladder score, dtype: float64"
            ]
          },
          "execution_count": 78,
          "metadata": {},
          "output_type": "execute_result"
        }
      ],
      "source": [
        "regional_happiness=df.groupby(\"Regional indicator\")['Ladder score'].mean()\n",
        "regional_happiness"
      ]
    },
    {
      "cell_type": "code",
      "execution_count": 79,
      "metadata": {
        "colab": {
          "base_uri": "https://localhost:8080/",
          "height": 272
        },
        "id": "gpd9gEuw0VTJ",
        "outputId": "ae216aac-4367-4311-f3dd-7d39c6f0d29f"
      },
      "outputs": [
        {
          "data": {
            "text/plain": [
              "Regional indicator\n",
              "North America and ANZ          6.927750\n",
              "Western Europe                 6.841650\n",
              "Central and Eastern Europe     6.170941\n",
              "Latin America and Caribbean    6.143368\n",
              "East Asia                      5.934333\n",
              "Name: Ladder score, dtype: float64"
            ]
          },
          "execution_count": 79,
          "metadata": {},
          "output_type": "execute_result"
        }
      ],
      "source": [
        "regional_happiness.sort_values(ascending=False).head()"
      ]
    },
    {
      "cell_type": "code",
      "execution_count": 80,
      "metadata": {
        "colab": {
          "base_uri": "https://localhost:8080/",
          "height": 613
        },
        "id": "eIaJ6K5Q3dWy",
        "outputId": "cd9eb64f-a9a3-4593-8d2f-11b8991552a9"
      },
      "outputs": [
        {
          "data": {
            "text/html": [
              "<div>\n",
              "<style scoped>\n",
              "    .dataframe tbody tr th:only-of-type {\n",
              "        vertical-align: middle;\n",
              "    }\n",
              "\n",
              "    .dataframe tbody tr th {\n",
              "        vertical-align: top;\n",
              "    }\n",
              "\n",
              "    .dataframe thead th {\n",
              "        text-align: right;\n",
              "    }\n",
              "</style>\n",
              "<table border=\"1\" class=\"dataframe\">\n",
              "  <thead>\n",
              "    <tr style=\"text-align: right;\">\n",
              "      <th></th>\n",
              "      <th>Country name</th>\n",
              "      <th>Healthy life expectancy</th>\n",
              "    </tr>\n",
              "  </thead>\n",
              "  <tbody>\n",
              "    <tr>\n",
              "      <th>2</th>\n",
              "      <td>Iceland</td>\n",
              "      <td>0.718</td>\n",
              "    </tr>\n",
              "    <tr>\n",
              "      <th>3</th>\n",
              "      <td>Sweden</td>\n",
              "      <td>0.724</td>\n",
              "    </tr>\n",
              "    <tr>\n",
              "      <th>4</th>\n",
              "      <td>Israel</td>\n",
              "      <td>0.740</td>\n",
              "    </tr>\n",
              "    <tr>\n",
              "      <th>5</th>\n",
              "      <td>Netherlands</td>\n",
              "      <td>0.706</td>\n",
              "    </tr>\n",
              "    <tr>\n",
              "      <th>6</th>\n",
              "      <td>Norway</td>\n",
              "      <td>0.704</td>\n",
              "    </tr>\n",
              "    <tr>\n",
              "      <th>7</th>\n",
              "      <td>Luxembourg</td>\n",
              "      <td>0.708</td>\n",
              "    </tr>\n",
              "    <tr>\n",
              "      <th>8</th>\n",
              "      <td>Switzerland</td>\n",
              "      <td>0.747</td>\n",
              "    </tr>\n",
              "    <tr>\n",
              "      <th>14</th>\n",
              "      <td>Canada</td>\n",
              "      <td>0.701</td>\n",
              "    </tr>\n",
              "    <tr>\n",
              "      <th>23</th>\n",
              "      <td>Germany</td>\n",
              "      <td>0.702</td>\n",
              "    </tr>\n",
              "    <tr>\n",
              "      <th>26</th>\n",
              "      <td>France</td>\n",
              "      <td>0.727</td>\n",
              "    </tr>\n",
              "    <tr>\n",
              "      <th>29</th>\n",
              "      <td>Singapore</td>\n",
              "      <td>0.769</td>\n",
              "    </tr>\n",
              "    <tr>\n",
              "      <th>35</th>\n",
              "      <td>Spain</td>\n",
              "      <td>0.729</td>\n",
              "    </tr>\n",
              "    <tr>\n",
              "      <th>39</th>\n",
              "      <td>Malta</td>\n",
              "      <td>0.707</td>\n",
              "    </tr>\n",
              "    <tr>\n",
              "      <th>40</th>\n",
              "      <td>Italy</td>\n",
              "      <td>0.720</td>\n",
              "    </tr>\n",
              "    <tr>\n",
              "      <th>49</th>\n",
              "      <td>Cyprus</td>\n",
              "      <td>0.744</td>\n",
              "    </tr>\n",
              "    <tr>\n",
              "      <th>50</th>\n",
              "      <td>Japan</td>\n",
              "      <td>0.785</td>\n",
              "    </tr>\n",
              "    <tr>\n",
              "      <th>51</th>\n",
              "      <td>South Korea</td>\n",
              "      <td>0.770</td>\n",
              "    </tr>\n",
              "    <tr>\n",
              "      <th>85</th>\n",
              "      <td>Hong Kong S.A.R. of China</td>\n",
              "      <td>0.857</td>\n",
              "    </tr>\n",
              "  </tbody>\n",
              "</table>\n",
              "</div>"
            ],
            "text/plain": [
              "                 Country name  Healthy life expectancy\n",
              "2                     Iceland                    0.718\n",
              "3                      Sweden                    0.724\n",
              "4                      Israel                    0.740\n",
              "5                 Netherlands                    0.706\n",
              "6                      Norway                    0.704\n",
              "7                  Luxembourg                    0.708\n",
              "8                 Switzerland                    0.747\n",
              "14                     Canada                    0.701\n",
              "23                    Germany                    0.702\n",
              "26                     France                    0.727\n",
              "29                  Singapore                    0.769\n",
              "35                      Spain                    0.729\n",
              "39                      Malta                    0.707\n",
              "40                      Italy                    0.720\n",
              "49                     Cyprus                    0.744\n",
              "50                      Japan                    0.785\n",
              "51                South Korea                    0.770\n",
              "85  Hong Kong S.A.R. of China                    0.857"
            ]
          },
          "execution_count": 80,
          "metadata": {},
          "output_type": "execute_result"
        }
      ],
      "source": [
        "health_expectancy=df[df['Healthy life expectancy']*100>70]\n",
        "health_expectancy[[\"Country name\",\"Healthy life expectancy\"]]"
      ]
    },
    {
      "cell_type": "markdown",
      "metadata": {
        "id": "9JU64vBno1C7"
      },
      "source": [
        "PART 8"
      ]
    },
    {
      "cell_type": "code",
      "execution_count": 81,
      "metadata": {
        "colab": {
          "base_uri": "https://localhost:8080/",
          "height": 81
        },
        "id": "yE0F_STtpOuC",
        "outputId": "ceda6542-7245-4a50-d5e8-2ed325feccf3"
      },
      "outputs": [
        {
          "data": {
            "text/html": [
              "<div>\n",
              "<style scoped>\n",
              "    .dataframe tbody tr th:only-of-type {\n",
              "        vertical-align: middle;\n",
              "    }\n",
              "\n",
              "    .dataframe tbody tr th {\n",
              "        vertical-align: top;\n",
              "    }\n",
              "\n",
              "    .dataframe thead th {\n",
              "        text-align: right;\n",
              "    }\n",
              "</style>\n",
              "<table border=\"1\" class=\"dataframe\">\n",
              "  <thead>\n",
              "    <tr style=\"text-align: right;\">\n",
              "      <th></th>\n",
              "      <th>Country name</th>\n",
              "      <th>Ladder score</th>\n",
              "    </tr>\n",
              "  </thead>\n",
              "  <tbody>\n",
              "    <tr>\n",
              "      <th>0</th>\n",
              "      <td>Finland</td>\n",
              "      <td>7.741</td>\n",
              "    </tr>\n",
              "  </tbody>\n",
              "</table>\n",
              "</div>"
            ],
            "text/plain": [
              "  Country name  Ladder score\n",
              "0      Finland         7.741"
            ]
          },
          "execution_count": 81,
          "metadata": {},
          "output_type": "execute_result"
        }
      ],
      "source": [
        "#Which country is the happiest?\n",
        "happy_countries[['Country name','Ladder score']].head(1)\n"
      ]
    },
    {
      "cell_type": "code",
      "execution_count": 82,
      "metadata": {
        "colab": {
          "base_uri": "https://localhost:8080/",
          "height": 147
        },
        "id": "UyqCKJlGCti1",
        "outputId": "f298ea45-4afa-4843-9e7b-e8a52cc2476b"
      },
      "outputs": [
        {
          "data": {
            "text/plain": [
              "Regional indicator\n",
              "North America and ANZ    6.92775\n",
              "Name: Ladder score, dtype: float64"
            ]
          },
          "execution_count": 82,
          "metadata": {},
          "output_type": "execute_result"
        }
      ],
      "source": [
        "#Which region is the happiest on average?\n",
        "regional_happiness.sort_values(ascending=False).head(1)"
      ]
    },
    {
      "cell_type": "code",
      "execution_count": 83,
      "metadata": {
        "colab": {
          "base_uri": "https://localhost:8080/"
        },
        "id": "KOg3edDLEyII",
        "outputId": "c5081c8c-0c1a-49be-e4b8-549af5d01741"
      },
      "outputs": [
        {
          "data": {
            "text/plain": [
              "np.float64(0.768503682450489)"
            ]
          },
          "execution_count": 83,
          "metadata": {},
          "output_type": "execute_result"
        }
      ],
      "source": [
        "#Is GDP per capita strongly correlated with happiness?\n",
        "df['Log GDP per capita'].corr(df['Ladder score'])"
      ]
    },
    {
      "cell_type": "code",
      "execution_count": 84,
      "metadata": {
        "colab": {
          "base_uri": "https://localhost:8080/",
          "height": 472
        },
        "id": "JKEV9UmSFJm7",
        "outputId": "2a3241cb-fe5e-411d-e774-1ec788b4f2fc"
      },
      "outputs": [
        {
          "data": {
            "image/png": "[encoded data removed]",
            "text/plain": [
              "<Figure size 640x480 with 1 Axes>"
            ]
          },
          "metadata": {},
          "output_type": "display_data"
        }
      ],
      "source": [
        "import matplotlib.pyplot as plt\n",
        "import numpy as np\n",
        "\n",
        "df_cleaned = df.dropna(subset=['Log GDP per capita', 'Ladder score'])\n",
        "\n",
        "avg_happiness_cleaned = df_cleaned.groupby('Country name')[['Log GDP per capita', 'Ladder score']].mean()\n",
        "\n",
        "plt.scatter(avg_happiness_cleaned['Log GDP per capita'], avg_happiness_cleaned['Ladder score'], alpha=0.6)\n",
        "plt.plot(np.unique(avg_happiness_cleaned['Log GDP per capita']), np.poly1d(np.polyfit(avg_happiness_cleaned['Log GDP per capita'], avg_happiness_cleaned['Ladder score'], 1))(np.unique(avg_happiness_cleaned['Log GDP per capita'])), color='red')\n",
        "\n",
        "plt.xlabel('Log GDP per capita')\n",
        "plt.ylabel('Happiness Score (Ladder score)')\n",
        "plt.title('GDP vs Happiness')\n",
        "plt.show()"
      ]
    },
    {
      "cell_type": "code",
      "execution_count": 85,
      "metadata": {
        "colab": {
          "base_uri": "https://localhost:8080/",
          "height": 36
        },
        "id": "Mqc6HbpHFC-2",
        "outputId": "352ed4e3-1325-4a8f-d68f-184c215b7a70"
      },
      "outputs": [
        {
          "data": {
            "text/plain": [
              "'Western Europe'"
            ]
          },
          "execution_count": 85,
          "metadata": {},
          "output_type": "execute_result"
        }
      ],
      "source": [
        "#highest avg life expectancy\n",
        "df.groupby('Regional indicator')['Healthy life expectancy'].mean().idxmax()"
      ]
    }
  ],
  "metadata": {
    "colab": {
      "provenance": []
    },
    "kernelspec": {
      "display_name": "Python (myvenv)",
      "language": "python",
      "name": "myvenv"
    },
    "language_info": {
      "codemirror_mode": {
        "name": "ipython",
        "version": 3
      },
      "file_extension": ".py",
      "mimetype": "text/x-python",
      "name": "python",
      "nbconvert_exporter": "python",
      "pygments_lexer": "ipython3",
      "version": "3.13.5"
    }
  },
  "nbformat": 4,
  "nbformat_minor": 0
}
